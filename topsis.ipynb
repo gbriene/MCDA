{
  "nbformat": 4,
  "nbformat_minor": 0,
  "metadata": {
    "colab": {
      "name": "topsis",
      "provenance": []
    },
    "kernelspec": {
      "name": "python3",
      "display_name": "Python 3"
    },
    "language_info": {
      "name": "python"
    }
  },
  "cells": [
    {
      "cell_type": "code",
      "metadata": {
        "id": "R8TmRal9Uk63"
      },
      "source": [
        "# Author: LEITE, G. B. S.\n",
        "# Description: Applying the TOPSIS method to a decision matrix"
      ],
      "execution_count": 15,
      "outputs": []
    },
    {
      "cell_type": "code",
      "metadata": {
        "id": "kKuiokqlds6u"
      },
      "source": [
        "import pandas as pd\n",
        "import numpy as np\n",
        "from operator import itemgetter"
      ],
      "execution_count": 14,
      "outputs": []
    },
    {
      "cell_type": "code",
      "metadata": {
        "colab": {
          "base_uri": "https://localhost:8080/"
        },
        "id": "RYgjX_61xIcf",
        "outputId": "4e916123-5b6e-47a4-a396-6cbc8c69bd56"
      },
      "source": [
        "# Decision matrix definition\n",
        "m = [[1.2, 25, 8, 58000, 7, 5, 1126],\n",
        "     [1.65, 40, 7, 31000, 7, 8, 334],\n",
        "     [1.27, 20, 9, 45000, 9, 6, 227],\n",
        "     [1.77, 25, 7, 50000, 8, 8, 550]]\n",
        "print(f'Decision matrix: {m}')\n",
        "\n",
        "# Criterion status definition, so that: 0 corresponds to minimization criteria and 1 to maximization criteria\n",
        "st = [0, 0, 1, 1, 1, 1, 0]\n",
        "print(f'Criteria status: {st}')\n",
        "\n",
        "# Definition of weights for each criterion\n",
        "pesos = [0.18, 0.2, 0.1, 0.2, 0.12, 0.05, 0.15]\n",
        "print(f'Criteria weights: {pesos}')"
      ],
      "execution_count": 21,
      "outputs": [
        {
          "output_type": "stream",
          "name": "stdout",
          "text": [
            "Decision matrix: [[1.2, 25, 8, 58000, 7, 5, 1126], [1.65, 40, 7, 31000, 7, 8, 334], [1.27, 20, 9, 45000, 9, 6, 227], [1.77, 25, 7, 50000, 8, 8, 550]]\n",
            "Criteria status: [0, 0, 1, 1, 1, 1, 0]\n",
            "Criteria weights: [0.18, 0.2, 0.1, 0.2, 0.12, 0.05, 0.15]\n"
          ]
        }
      ]
    },
    {
      "cell_type": "code",
      "metadata": {
        "id": "fuAm-vPHfENN"
      },
      "source": [
        "# As the first step to apply the TOPSIS, in a decision matrix is to normalize it, the normalization function is defined\n",
        "# Here the Euclidean normalization will be used, as it is the most used in TOPSIS\n",
        "\n",
        "def normalizar_euclidiana(matriz, status):\n",
        "  \"\"\"\n",
        "  -> Function to calculate the Euclidean normalization of a decision matrix.\n",
        "\n",
        "   :param matriz: decision matrix.\n",
        "   :param status: list containing the status of each criterion - if it is a maxization criterion, the list receives 1 and, if it is a minization criterion, the list receives 0.\n",
        "   :return: transposed normalized matrix.\n",
        "\n",
        "  \"\"\"\n",
        "  \n",
        "  l = []\n",
        "  for j in range(len(matriz[0])):\n",
        "    linha = []\n",
        "    for i in range(len(matriz)):\n",
        "      linha.append(matriz[i][j])\n",
        "    l.append(linha)\n",
        "\n",
        "  q = []\n",
        "  for linha in l:\n",
        "    a = 0\n",
        "    for item in linha:\n",
        "      a += (item**2)\n",
        "    b = (a**(1/2))\n",
        "    q.append(b)\n",
        "  \n",
        "  m_final = []\n",
        "  for i in range(0, len(status)):\n",
        "    lin = []\n",
        "    if status[i] == 0:\n",
        "      for j in range(0, len(l[i])):\n",
        "        lin.append(1-(l[i][j]/q[i]))\n",
        "      m_final.append(lin[:])\n",
        "    \n",
        "    else:\n",
        "      for j in range(0, len(l[i])):\n",
        "        lin.append(l[i][j]/q[i])\n",
        "      m_final.append(lin[:])\n",
        "      \n",
        "  return m_final"
      ],
      "execution_count": 17,
      "outputs": []
    },
    {
      "cell_type": "code",
      "metadata": {
        "colab": {
          "base_uri": "https://localhost:8080/"
        },
        "id": "J__50HTbZVGY",
        "outputId": "5c38a45b-3c1c-4f8b-8d80-290f0ff1fef0"
      },
      "source": [
        "# Function application\n",
        "m_normec = normalizar_euclidiana(m, st)\n",
        "print(f'Transposed normalized matrix:\\n{np.array(m_normec)}')"
      ],
      "execution_count": 18,
      "outputs": [
        {
          "output_type": "stream",
          "name": "stdout",
          "text": [
            "Transposed normalized matrix:\n",
            "[[0.59794652 0.44717646 0.5744934  0.40697111]\n",
            " [0.56147099 0.29835358 0.64917679 0.56147099]\n",
            " [0.51320024 0.44905021 0.57735027 0.44905021]\n",
            " [0.61653304 0.32952628 0.4783446  0.531494  ]\n",
            " [0.44905021 0.44905021 0.57735027 0.51320024]\n",
            " [0.36369648 0.58191437 0.43643578 0.58191437]\n",
            " [0.1447731  0.74631813 0.82758747 0.58226039]]\n"
          ]
        }
      ]
    },
    {
      "cell_type": "markdown",
      "metadata": {
        "id": "LtgXuMt6wkS5"
      },
      "source": [
        "###**Método Technique for Order Preference by Similarity to Ideal Solution (TOPSIS)**\n",
        "\n"
      ]
    },
    {
      "cell_type": "markdown",
      "metadata": {
        "id": "gxeS6vePlYAW"
      },
      "source": [
        "Let the matrix be normalized (euclidean normalization): $X =\n",
        " \\begin{pmatrix}\n",
        "  x_{1,1} & x_{1,2} & \\cdots & x_{1,j} \\\\\n",
        "  x_{2,1} & x_{2,2} & \\cdots & x_{2,j} \\\\\n",
        "  \\vdots  & \\vdots  & \\ddots & \\vdots  \\\\\n",
        "  x_{i,1} & x_{i,2} & \\cdots & x_{i,j}\n",
        " \\end{pmatrix}$;\n",
        "\n",
        " and the weight vector: $w =\n",
        " \\begin{pmatrix}\n",
        "  w_{1} & w_{2} & \\cdots & w_{k} \\\\\n",
        " \\end{pmatrix}$, so that $\\sum_{j=i}^k w_{j} = 1$."
      ]
    },
    {
      "cell_type": "markdown",
      "metadata": {
        "id": "iImKiZNPmBIZ"
      },
      "source": [
        " First, the normalized matrix ($T$) weighted by the weights $w$ is calculated:\n",
        "\n",
        " $T =\n",
        " \\begin{pmatrix}\n",
        "  t_{1,1} & t_{1,2} & \\cdots & t_{1,j} \\\\\n",
        "  t_{2,1} & t_{2,2} & \\cdots & t_{2,j} \\\\\n",
        "  \\vdots  & \\vdots  & \\ddots & \\vdots  \\\\\n",
        "  t_{i,1} & t_{i,2} & \\cdots & t_{i,j}\n",
        " \\end{pmatrix}$, onde $t_{ij} = x_{ij}w{j}$"
      ]
    },
    {
      "cell_type": "markdown",
      "metadata": {
        "id": "q2o7KwvwoOD2"
      },
      "source": [
        "Then, a positive ideal alternative $A^+ =\n",
        " \\begin{pmatrix}\n",
        "  t^+_{1} & t^+_{2} & \\cdots & t^+_{n} \\\\\n",
        " \\end{pmatrix}$ and a negative ideal alternative $A^- =\n",
        " \\begin{pmatrix}\n",
        "  t^-_{1} & t^-_{2} & \\cdots & t^-_{n} \\\\\n",
        " \\end{pmatrix}$  are defined, where:\n",
        "\n",
        "$t^+_{i} = max(t_{ij})$, if the criterion is to maximize, and $min(t_{ij})$, if the criterion is to minimize;\n",
        "\n",
        "$t^-_{i} = min(t_{ij})$, if the criterion is to maximize, and $max(t_{ij})$, if the criterion is to minimize.\n",
        "\n",
        "It is important to be aware that the normalization method corrects the direction of the criteria. In the case of the function presented in this code, as the direction is corrected, when selecting the ideal alternatives, it is assumed that all criteria become maximization."
      ]
    },
    {
      "cell_type": "markdown",
      "metadata": {
        "id": "H2dtrFkTpveX"
      },
      "source": [
        "Now, the distances $d^+_{i}$ and $d^-_{i}$ of each alternative to the ideal alternatives are calculated:\n",
        "\n",
        "$d^+_{i} = sqrt(\\sum_{j=i}^n (t^+_{j} - t_{ij})^2)$ and $d^-_{i} = sqrt(\\sum_{j=i}^n (t^-_{j} - t_{ij})^2)$."
      ]
    },
    {
      "cell_type": "markdown",
      "metadata": {
        "id": "6k2it06sq7F4"
      },
      "source": [
        "The value of each alternative is given by: $r_{i} = \\frac{d^-_{i}}{d^+_{i} + d^-_{i}}$.\n",
        "\n",
        "The alternatives are ordered according to the ascending order of the vector $r = \\begin{pmatrix}\n",
        "r_{1} & r_{2} & \\cdots & r_{i} \\\\\n",
        "\\end{pmatrix}$."
      ]
    },
    {
      "cell_type": "code",
      "metadata": {
        "id": "jKRuQEuJit_7"
      },
      "source": [
        "def topsis(matriz, pesos):\n",
        "  \"\"\"\n",
        "   -> Function to evaluate the alternatives from the Technique for Order Preference by Similarity to Ideal Solution (TOPSIS) method.\n",
        "\n",
        "   :param matriz: transposed normalized decision matrix.\n",
        "   :param pes: list containing the weights of each criterion analyzed.\n",
        "  \n",
        "   The function returns a print with the classification of the evaluated alternatives.\n",
        "\n",
        "   \"\"\"\n",
        "\n",
        "  c = 0\n",
        "  m_p = []\n",
        "\n",
        "  while c < len(pesos):                         # The decision matrix is weighted by the weights of their respective criteria\n",
        "    col = []\n",
        "    for i in matriz[c]:\n",
        "      col.append(i*pesos[c])\n",
        "    m_p.append(col[:])\n",
        "    col.clear()\n",
        "    c += 1\n",
        "\n",
        "  a_positivo = []\n",
        "  a_negativo = []\n",
        "  for i in m_p:                                 # Positive and negative ideal alternatives are generated\n",
        "    a_positivo.append(max(i))\n",
        "    a_negativo.append(min(i))\n",
        "  \n",
        "  matrizt = []                                  # The weighted matrix - which was already transposed - is transposed\n",
        "  for j in range(len(m_p[0])):\n",
        "    linha = []\n",
        "    for i in range(len(m_p)):\n",
        "      linha.append(m_p[i][j])\n",
        "    matrizt.append(linha)\n",
        "  \n",
        "  dic = {}                                       # A dictionary with the weighted matrix is created\n",
        "  for i in range(0, len(m_p[0])):\n",
        "    dic[i] = matrizt[i]\n",
        "\n",
        "  d_positivo = []\n",
        "  d_negativo = []\n",
        "  for i in range(0, len(dic)):                   # Calculate the positive and negative d\n",
        "    dmais = dmenos = 0\n",
        "    for j in range(0, len(a_positivo)):\n",
        "      dmais += (a_positivo[j] - dic[i][j])**2\n",
        "      dmenos += (a_negativo[j] - dic[i][j])**2\n",
        "    d_positivo.append(dmais**(1/2))\n",
        "    d_negativo.append(dmenos**(1/2))\n",
        "\n",
        "  score = []                                     # The score for each alternative is calculated\n",
        "  for i in range(0, len(matriz[0])):\n",
        "    pont = d_negativo[i]/(d_negativo[i] + d_positivo[i])\n",
        "    score.append(pont)\n",
        "  \n",
        "  dics = {}                                      # A dictionary with the score is also created\n",
        "  for i in range(0, len(score)):\n",
        "    dics[i] = score[i]\n",
        "\n",
        "  print('='*26, end=' ')\n",
        "  print('\\033[91m'+\"Ranking TOPSIS\"+'\\033[0m', end=' ')\n",
        "  print('='*26)\n",
        "\n",
        "  ranking = sorted(dics.items(), key=itemgetter(1), reverse=True)         # And, finally, the function returns the result with the classification of alternatives\n",
        "  for i, v in enumerate(ranking):\n",
        "    print(f'{i+1}st place: Alternative {v[0]+1} with a {v[1]} point rating')"
      ],
      "execution_count": 19,
      "outputs": []
    },
    {
      "cell_type": "code",
      "metadata": {
        "colab": {
          "base_uri": "https://localhost:8080/"
        },
        "id": "JwqZzsymeUil",
        "outputId": "c5a71e00-79f0-43f1-b0a6-04fe67df1e36"
      },
      "source": [
        "# Application of the TOPSIS method in the normalized matrix\n",
        "topsis(m_normec, pesos)"
      ],
      "execution_count": 20,
      "outputs": [
        {
          "output_type": "stream",
          "name": "stdout",
          "text": [
            "========================== \u001b[91mRanking TOPSIS\u001b[0m ==========================\n",
            "1st place: Alternative 3 with a 0.8212780863451156 point rating\n",
            "2st place: Alternative 4 with a 0.619337770745421 point rating\n",
            "3st place: Alternative 2 with a 0.48326275721711354 point rating\n",
            "4st place: Alternative 1 with a 0.44653041228768514 point rating\n"
          ]
        }
      ]
    }
  ]
}