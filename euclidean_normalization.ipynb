{
  "nbformat": 4,
  "nbformat_minor": 0,
  "metadata": {
    "colab": {
      "name": "euclidean_normalization",
      "provenance": []
    },
    "kernelspec": {
      "name": "python3",
      "display_name": "Python 3"
    },
    "language_info": {
      "name": "python"
    }
  },
  "cells": [
    {
      "cell_type": "code",
      "metadata": {
        "id": "R8TmRal9Uk63"
      },
      "source": [
        "# Author: LEITE, G. B. S.\n",
        "# Description: Decision matrix normalization using the euclidean methodology\n",
        "# Note: The function contained in this code return the normalized matrix transpose"
      ],
      "execution_count": null,
      "outputs": []
    },
    {
      "cell_type": "code",
      "metadata": {
        "id": "j8yi3RjoY2D8"
      },
      "source": [
        "import numpy as np"
      ],
      "execution_count": null,
      "outputs": []
    },
    {
      "cell_type": "code",
      "metadata": {
        "colab": {
          "base_uri": "https://localhost:8080/"
        },
        "id": "RYgjX_61xIcf",
        "outputId": "ece0ecfe-c5d1-4503-889b-4e13955fb694"
      },
      "source": [
        "# Decision matrix definition\n",
        "m = [[1.2, 25, 8, 58000, 7, 5, 1126],\n",
        "     [1.65, 40, 7, 31000, 7, 8, 334],\n",
        "     [1.27, 20, 9, 45000, 9, 6, 227],\n",
        "     [1.77, 25, 7, 50000, 8, 8, 550]]\n",
        "print(f'Decision matrix: {m}')\n",
        "\n",
        "# Criterion status definition, so that: 0 corresponds to minimization criteria and 1 to maximization criteria\n",
        "st = [0, 0, 1, 1, 1, 1, 0]\n",
        "print(f'Criteria status: {st}')"
      ],
      "execution_count": null,
      "outputs": [
        {
          "output_type": "stream",
          "name": "stdout",
          "text": [
            "Decision matrix: [[1.2, 25, 8, 58000, 7, 5, 1126], [1.65, 40, 7, 31000, 7, 8, 334], [1.27, 20, 9, 45000, 9, 6, 227], [1.77, 25, 7, 50000, 8, 8, 550]]\n",
            "Criteria status: [0, 0, 1, 1, 1, 1, 0]\n"
          ]
        }
      ]
    },
    {
      "cell_type": "markdown",
      "metadata": {
        "id": "Fy5LYwX3WPAT"
      },
      "source": [
        "**Euclidean Normalization**\n",
        "\n",
        "$x_{i j} = \\frac{d_{ij}}{sqrt(\\sum_{i=i}^n (d_{ij})^2)}$,  if the criterion is **maximization**. \n",
        "\n",
        "$x_{i j} = 1 - \\frac{d_{ij}}{sqrt(\\sum_{i=i}^n (d_{ij})^2)}$,  if the criterion is **minimization**.\n",
        "\n",
        "Note: This normalization corrects the meanings of the criteria"
      ]
    },
    {
      "cell_type": "code",
      "metadata": {
        "id": "fuAm-vPHfENN"
      },
      "source": [
        "def normalizar_euclidiana(matriz, status):\n",
        "  \"\"\"\n",
        "  -> Function to calculate the Euclidean normalization of a decision matrix.\n",
        "\n",
        "   :param matriz: decision matrix.\n",
        "   :param status: list containing the status of each criterion - if it is a maxization criterion, the list receives 1 and, if it is a minization criterion, the list receives 0.\n",
        "   :return: transposed normalized matrix.\n",
        "\n",
        "  \"\"\"\n",
        "  \n",
        "  l = []                                  # Generate the transposed matrix\n",
        "  for j in range(len(matriz[0])):\n",
        "    linha = []\n",
        "    for i in range(len(matriz)):\n",
        "      linha.append(matriz[i][j])\n",
        "    l.append(linha)\n",
        "\n",
        "  q = []                                   # Calculates the sum\n",
        "  for linha in l:\n",
        "    a = 0\n",
        "    for item in linha:\n",
        "      a += (item**2)\n",
        "    b = (a**(1/2))\n",
        "    q.append(b)\n",
        "  \n",
        "  m_final = []                             # Generate the normalized matrix\n",
        "  for i in range(0, len(status)):\n",
        "    lin = []\n",
        "    if status[i] == 0:                     # This step evaluates whether the criterion is maximum or minimum\n",
        "      for j in range(0, len(l[i])):        # The respective values are assigned to each item\n",
        "        lin.append(1-(l[i][j]/q[i]))\n",
        "      m_final.append(lin[:])\n",
        "    \n",
        "    else:                                  # And then the same steps are repeated for the maximum criteria.\n",
        "      for j in range(0, len(l[i])):\n",
        "        lin.append(l[i][j]/q[i])\n",
        "      m_final.append(lin[:])\n",
        "      \n",
        "  return m_final"
      ],
      "execution_count": 6,
      "outputs": []
    },
    {
      "cell_type": "code",
      "metadata": {
        "colab": {
          "base_uri": "https://localhost:8080/"
        },
        "id": "J__50HTbZVGY",
        "outputId": "c749ccd2-cb03-4224-b9f7-469f9687f01f"
      },
      "source": [
        "# Function application\n",
        "m_normec = np.array(normalizar_euclidiana(m, st))\n",
        "print(f'Normalized matrix:\\n{m_normec}')"
      ],
      "execution_count": null,
      "outputs": [
        {
          "output_type": "stream",
          "name": "stdout",
          "text": [
            "Normalized matrix:\n",
            "[[0.59794652 0.44717646 0.5744934  0.40697111]\n",
            " [0.56147099 0.29835358 0.64917679 0.56147099]\n",
            " [0.51320024 0.44905021 0.57735027 0.44905021]\n",
            " [0.61653304 0.32952628 0.4783446  0.531494  ]\n",
            " [0.44905021 0.44905021 0.57735027 0.51320024]\n",
            " [0.36369648 0.58191437 0.43643578 0.58191437]\n",
            " [0.1447731  0.74631813 0.82758747 0.58226039]]\n"
          ]
        }
      ]
    }
  ]
}