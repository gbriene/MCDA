{
  "nbformat": 4,
  "nbformat_minor": 0,
  "metadata": {
    "colab": {
      "name": "sum_normalization",
      "provenance": []
    },
    "kernelspec": {
      "name": "python3",
      "display_name": "Python 3"
    },
    "language_info": {
      "name": "python"
    }
  },
  "cells": [
    {
      "cell_type": "code",
      "metadata": {
        "id": "R8TmRal9Uk63"
      },
      "source": [
        "# Author: LEITE, G. B. S.\n",
        "# Description: Decision matrix normalization using the sum methodology\n",
        "# Note: The function contained in this code return the normalized matrix transpose"
      ],
      "execution_count": 8,
      "outputs": []
    },
    {
      "cell_type": "code",
      "metadata": {
        "id": "j8yi3RjoY2D8"
      },
      "source": [
        "import numpy as np"
      ],
      "execution_count": 7,
      "outputs": []
    },
    {
      "cell_type": "code",
      "metadata": {
        "colab": {
          "base_uri": "https://localhost:8080/"
        },
        "id": "RYgjX_61xIcf",
        "outputId": "25960b6a-ba98-45fb-eb74-3b6aa97154cd"
      },
      "source": [
        "# Decision matrix definition\n",
        "m = [[1.2, 25, 8, 58000, 7, 5, 1126],\n",
        "     [1.65, 40, 7, 31000, 7, 8, 334],\n",
        "     [1.27, 20, 9, 45000, 9, 6, 227],\n",
        "     [1.77, 25, 7, 50000, 8, 8, 550]]\n",
        "print(f'Decision matrix: {m}')\n",
        "\n",
        "# Criterion status definition, so that: 0 corresponds to minimization criteria and 1 to maximization criteria\n",
        "st = [0, 0, 1, 1, 1, 1, 0]\n",
        "print(f'Criteria status: {st}')"
      ],
      "execution_count": 9,
      "outputs": [
        {
          "output_type": "stream",
          "name": "stdout",
          "text": [
            "Decision matrix: [[1.2, 25, 8, 58000, 7, 5, 1126], [1.65, 40, 7, 31000, 7, 8, 334], [1.27, 20, 9, 45000, 9, 6, 227], [1.77, 25, 7, 50000, 8, 8, 550]]\n",
            "Criteria status: [0, 0, 1, 1, 1, 1, 0]\n"
          ]
        }
      ]
    },
    {
      "cell_type": "markdown",
      "metadata": {
        "id": "8yMj2emriRFE"
      },
      "source": [
        "**Sum Normalization Method**\n",
        "\n",
        "$x_{i j} = \\frac{d_{ij}}{\\sum_{i=i}^n d_{ij}}$,  if the criterion is **maximization**. \n",
        "\n",
        "$x_{i j} = 1 - \\frac{d_{ij}}{\\sum_{i=i}^n d_{ij}}$,  if the criterion is **minimization**.\n",
        "\n",
        "Note: This normalization corrects the meanings of the criteria"
      ]
    },
    {
      "cell_type": "code",
      "metadata": {
        "id": "1AhrKNqViTeW"
      },
      "source": [
        "def normalizar_soma(matriz, status):\n",
        "  \"\"\"\n",
        "  -> Function to calculate the sum normalization of a decision matrix.\n",
        "\n",
        "   :param matriz: decision matrix.\n",
        "   :param status: list containing the status of each criterion - if it is a maxization criterion, the list receives 1 and, if it is a minization criterion, the list receives 0.\n",
        "   :return: transposed normalized matrix.\n",
        "\n",
        "  \"\"\"\n",
        "  \n",
        "  l = []                                  # Generate the transposed matrix\n",
        "  for j in range(len(matriz[0])):\n",
        "    linha = []\n",
        "    for i in range(len(matriz)):\n",
        "      linha.append(matriz[i][j])\n",
        "    l.append(linha)\n",
        "\n",
        "  q = []                                   # Calculates the sum\n",
        "  for linha in l:\n",
        "    a = 0\n",
        "    for item in linha:\n",
        "      a += item\n",
        "    q.append(a)\n",
        "  \n",
        "  m_final = []                             # Generate the normalized matrix\n",
        "  for i in range(0, len(status)):\n",
        "    lin = []\n",
        "    if status[i] == 0:                     # This step evaluates whether the criterion is maximum or minimum\n",
        "      for j in range(0, len(l[i])):        # The respective values are assigned to each item\n",
        "        lin.append(1-(l[i][j]/q[i]))\n",
        "      m_final.append(lin[:])\n",
        "    \n",
        "    else:                                  # And then the same steps are repeated for the maximum criteria.\n",
        "      for j in range(0, len(l[i])):\n",
        "        lin.append(l[i][j]/q[i])\n",
        "      m_final.append(lin[:])\n",
        "      \n",
        "  return m_final"
      ],
      "execution_count": 10,
      "outputs": []
    },
    {
      "cell_type": "code",
      "metadata": {
        "colab": {
          "base_uri": "https://localhost:8080/"
        },
        "id": "Kg4tnoRUgULS",
        "outputId": "8433d9a8-0db1-41cd-d56d-caa2c75adc36"
      },
      "source": [
        "# Function application\n",
        "m_normsum = np.array(normalizar_soma(m, st))\n",
        "print(f'Transposed normalized matrix:\\n{m_normsum}')"
      ],
      "execution_count": 11,
      "outputs": [
        {
          "output_type": "stream",
          "name": "stdout",
          "text": [
            "Transposed normalized matrix:\n",
            "[[0.79626486 0.71986418 0.78438031 0.69949066]\n",
            " [0.77272727 0.63636364 0.81818182 0.77272727]\n",
            " [0.25806452 0.22580645 0.29032258 0.22580645]\n",
            " [0.31521739 0.16847826 0.24456522 0.27173913]\n",
            " [0.22580645 0.22580645 0.29032258 0.25806452]\n",
            " [0.18518519 0.2962963  0.22222222 0.2962963 ]\n",
            " [0.4966473  0.85069289 0.89852481 0.754135  ]]\n"
          ]
        }
      ]
    }
  ]
}