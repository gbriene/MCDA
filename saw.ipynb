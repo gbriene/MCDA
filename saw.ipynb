{
  "nbformat": 4,
  "nbformat_minor": 0,
  "metadata": {
    "colab": {
      "name": "saw",
      "provenance": []
    },
    "kernelspec": {
      "name": "python3",
      "display_name": "Python 3"
    },
    "language_info": {
      "name": "python"
    }
  },
  "cells": [
    {
      "cell_type": "code",
      "metadata": {
        "id": "R8TmRal9Uk63"
      },
      "source": [
        "# Author: LEITE, G. B. S.\n",
        "# Description: Applying the Simple Additive Weighting (SAW) method to a decision matrix"
      ],
      "execution_count": 28,
      "outputs": []
    },
    {
      "cell_type": "code",
      "metadata": {
        "id": "kKuiokqlds6u"
      },
      "source": [
        "import pandas as pd\n",
        "import numpy as np\n",
        "from operator import itemgetter"
      ],
      "execution_count": 6,
      "outputs": []
    },
    {
      "cell_type": "code",
      "metadata": {
        "colab": {
          "base_uri": "https://localhost:8080/"
        },
        "id": "RYgjX_61xIcf",
        "outputId": "4c72ad73-0c8f-4ae8-8be2-145b6d0ae768"
      },
      "source": [
        "# Decision matrix definition\n",
        "m = [[1.2, 25, 8, 58000, 7, 5, 1126],\n",
        "     [1.65, 40, 7, 31000, 7, 8, 334],\n",
        "     [1.27, 20, 9, 45000, 9, 6, 227],\n",
        "     [1.77, 25, 7, 50000, 8, 8, 550]]\n",
        "print(f'Decision matrix: {m}')\n",
        "\n",
        "# Criterion status definition, so that: 0 corresponds to minimization criteria and 1 to maximization criteria\n",
        "st = [0, 0, 1, 1, 1, 1, 0]\n",
        "print(f'Criteria status: {st}')\n",
        "\n",
        "# Definition of weights for each criterion\n",
        "pesos = [0.18, 0.2, 0.1, 0.2, 0.12, 0.05, 0.15]\n",
        "print(f'Criteria weights: {pesos}')"
      ],
      "execution_count": 32,
      "outputs": [
        {
          "output_type": "stream",
          "name": "stdout",
          "text": [
            "Decision matrix: [[1.2, 25, 8, 58000, 7, 5, 1126], [1.65, 40, 7, 31000, 7, 8, 334], [1.27, 20, 9, 45000, 9, 6, 227], [1.77, 25, 7, 50000, 8, 8, 550]]\n",
            "Criteria status: [0, 0, 1, 1, 1, 1, 0]\n",
            "Criteria weights: [0.18, 0.2, 0.1, 0.2, 0.12, 0.05, 0.15]\n"
          ]
        }
      ]
    },
    {
      "cell_type": "code",
      "metadata": {
        "id": "fXWEYPIahyt1"
      },
      "source": [
        "# As the first step to apply the SAW in a decision matrix is to normalize it, the normalization function is defined\n",
        "\n",
        "def normalizar_01(matriz, status):\n",
        "  \"\"\"\n",
        " -> Function to calculate normalization of type 0-1 of a decision matrix.\n",
        "\n",
        "   :param matriz: decision matrix.\n",
        "   :param status: list containing the status of each criterion - if it is a maxization criterion, the list receives 1 and, if it is a minization criterion, the list receives 0.\n",
        "   :return: transposed normalized matrix.\n",
        "\n",
        "  \"\"\"\n",
        "\n",
        "  l = []\n",
        "  for j in range(len(matriz[0])):\n",
        "    linha = []\n",
        "    for i in range(len(matriz)):\n",
        "      linha.append(matriz[i][j])\n",
        "    l.append(linha)\n",
        "  \n",
        "  m_final = []\n",
        "  maior = menor = 0\n",
        "  for i in range(0, len(status)):\n",
        "    if status[i] == 0:\n",
        "      for j in range(0, len(l[i])):\n",
        "        if j == 0:\n",
        "            maior = l[i][j]\n",
        "            menor = l[i][j]    \n",
        "        else:\n",
        "            if l[i][j] > maior:\n",
        "              maior = l[i][j]\n",
        "            if l[i][j] < menor:\n",
        "              menor = l[i][j]\n",
        "\n",
        "      for j in range(0, len(l[i])):\n",
        "        if l[i][j] == maior:\n",
        "          l[i][j] = 0\n",
        "        elif l[i][j] == menor:\n",
        "          l[i][j] = 1\n",
        "        else:\n",
        "          l[i][j] = (maior - l[i][j])/(maior - menor)\n",
        "      m_final.append(l[i])\n",
        "\n",
        "    else:\n",
        "      maior = menor = 0\n",
        "      for j in range(0, len(l[i])):\n",
        "        if j == 0:\n",
        "            maior = l[i][j]\n",
        "            menor = l[i][j]\n",
        "        else:\n",
        "            if l[i][j] > maior:\n",
        "              maior = l[i][j]\n",
        "            if l[i][j] < menor:\n",
        "              menor = l[i][j]\n",
        "\n",
        "      for j in range(0, len(l[i])):\n",
        "        if l[i][j] == maior:\n",
        "          l[i][j] = 1\n",
        "        elif l[i][j] == menor:\n",
        "          l[i][j] = 0\n",
        "        else:\n",
        "          l[i][j] = (l[i][j] - menor)/(maior - menor)\n",
        "\n",
        "      m_final.append(l[i])\n",
        "\n",
        "  return m_final"
      ],
      "execution_count": 33,
      "outputs": []
    },
    {
      "cell_type": "code",
      "metadata": {
        "colab": {
          "base_uri": "https://localhost:8080/"
        },
        "id": "EXzO-I-TxsFq",
        "outputId": "c3accc2e-e4cf-40b5-9f52-a2ce3a3b0ff6"
      },
      "source": [
        "# Normalization of the decision matrix from the 0-1 method\n",
        "m_norm01 = normalizar_01(m, st)\n",
        "print(f'Transposed normalized matrix:\\n{np.array(m_norm01)}')"
      ],
      "execution_count": 31,
      "outputs": [
        {
          "output_type": "stream",
          "name": "stdout",
          "text": [
            "Transposed normalized matrix:\n",
            "[[1.         0.21052632 0.87719298 0.        ]\n",
            " [0.75       0.         1.         0.75      ]\n",
            " [0.5        0.         1.         0.        ]\n",
            " [1.         0.         0.51851852 0.7037037 ]\n",
            " [0.         0.         1.         0.5       ]\n",
            " [0.         1.         0.33333333 1.        ]\n",
            " [0.         0.88097887 1.         0.6407119 ]]\n"
          ]
        }
      ]
    },
    {
      "cell_type": "markdown",
      "metadata": {
        "id": "cA7yl_aUwdq8"
      },
      "source": [
        "#### **Simple Additive Weighting (SAW) Method**\n"
      ]
    },
    {
      "cell_type": "markdown",
      "metadata": {
        "id": "WSOwJ8c_hdYF"
      },
      "source": [
        "Let the matrix be normalized: $X =\n",
        " \\begin{pmatrix}\n",
        "  x_{1,1} & x_{1,2} & \\cdots & x_{1,j} \\\\\n",
        "  x_{2,1} & x_{2,2} & \\cdots & x_{2,j} \\\\\n",
        "  \\vdots  & \\vdots  & \\ddots & \\vdots  \\\\\n",
        "  x_{i,1} & x_{i,2} & \\cdots & x_{i,j}\n",
        " \\end{pmatrix}$;\n",
        "\n",
        " and the weight vector: $w =\n",
        " \\begin{pmatrix}\n",
        "  w_{1} & w_{2} & \\cdots & w_{k} \\\\\n",
        " \\end{pmatrix}$, so that $\\sum_{j=i}^k w_{j} = 1$. Calculate the value $v_{i}$ of each alternative $A_{i}$, so that:\n",
        " \n",
        " $v_{i} = \\sum_{j=i}^k x_{ij}w_{j}$. The alternatives are ordered according to the ascending order of the vector $v = \\begin{pmatrix}\n",
        "v_{1} & v_{2} & \\cdots & v_{i} \\\\\n",
        "\\end{pmatrix}$."
      ]
    },
    {
      "cell_type": "code",
      "metadata": {
        "id": "DN11PZLDf9NM"
      },
      "source": [
        "def saw(matriz, pesos):\n",
        "  \"\"\"\n",
        "-> Function to evaluate alternatives using the Simple Additive Weighting (SAW) method.\n",
        "\n",
        "   :param matriz: transposed normalized decision matrix.\n",
        "   :param pes: list containing the weights of each criterion analyzed.\n",
        "  \n",
        "   The function returns a print with the classification of the evaluated alternatives.\n",
        "\n",
        "  \"\"\"\n",
        "  \n",
        "  c = 0\n",
        "  m_p = []\n",
        "  while c < len(pesos):                 # The decision matrix is weighted by the weights of their respective criteria\n",
        "    col = []\n",
        "    for i in matriz[c]:\n",
        "      col.append(i*pesos[c])\n",
        "    m_p.append(col[:])\n",
        "    col.clear()\n",
        "    c += 1\n",
        "  \n",
        "  dic = {}                              # A dictionary with the weighted matrix is created\n",
        "  for i in range(0, len(m_p)):\n",
        "    dic[i] = m_p[i]\n",
        "  \n",
        "  df = pd.DataFrame(dic)                # A data frame is generated\n",
        "  df['avaliaçao_saw'] = df.sum(axis=1)  # and the terms of each row (that is, of each evaluated alternative) are added together\n",
        "  \n",
        "  l = []                                # A list with the rating is created\n",
        "  for i in df['avaliaçao_saw']:\n",
        "    l.append(i)\n",
        "\n",
        "  dics = {}                             # A dictionary with the rating is also created\n",
        "  for i in range(0, len(l)):\n",
        "    dics[i] = l[i]\n",
        "\n",
        "  print('='*26, end=' ')\n",
        "  print('\\033[91m'+\"Ranking SAW\"+'\\033[0m', end=' ')\n",
        "  print('='*26)\n",
        "\n",
        "  ranking = sorted(dics.items(), key=itemgetter(1), reverse=True)         # And, finally, the function returns the result with the classification of alternatives\n",
        "  for i, v in enumerate(ranking):\n",
        "    print(f'{i+1}st place: Alternative {v[0]+1} with a {v[1]} point rating')"
      ],
      "execution_count": 26,
      "outputs": []
    },
    {
      "cell_type": "code",
      "metadata": {
        "colab": {
          "base_uri": "https://localhost:8080/"
        },
        "id": "1ISL2bcVYj3B",
        "outputId": "87b8edfa-e5ed-4d03-c4c4-c89985a97cff"
      },
      "source": [
        "# Application of the SAW method in the normalized matrix\n",
        "saw(m_norm01, pesos)"
      ],
      "execution_count": 27,
      "outputs": [
        {
          "output_type": "stream",
          "name": "stdout",
          "text": [
            "========================== \u001b[91mRanking SAW\u001b[0m ==========================\n",
            "1st place: Alternative 3 with a 0.8482651072124757 point rating\n",
            "2st place: Alternative 1 with a 0.5800000000000001 point rating\n",
            "3st place: Alternative 4 with a 0.4968475260577596 point rating\n",
            "4st place: Alternative 2 with a 0.22004156665300628 point rating\n"
          ]
        }
      ]
    }
  ]
}