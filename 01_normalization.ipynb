{
  "nbformat": 4,
  "nbformat_minor": 0,
  "metadata": {
    "colab": {
      "name": "01_normalization",
      "provenance": []
    },
    "kernelspec": {
      "display_name": "Python 3",
      "name": "python3"
    },
    "language_info": {
      "name": "python"
    }
  },
  "cells": [
    {
      "cell_type": "code",
      "metadata": {
        "id": "R8TmRal9Uk63"
      },
      "source": [
        "# Author: LEITE, G. B. S.\n",
        "# Description: Decision matrix normalization using the 0-1 methodology\n",
        "# Note: The function contained in this code return the normalized matrix transpose"
      ],
      "execution_count": null,
      "outputs": []
    },
    {
      "cell_type": "code",
      "metadata": {
        "id": "j8yi3RjoY2D8"
      },
      "source": [
        "import numpy as np"
      ],
      "execution_count": null,
      "outputs": []
    },
    {
      "cell_type": "code",
      "metadata": {
        "colab": {
          "base_uri": "https://localhost:8080/"
        },
        "id": "RYgjX_61xIcf",
        "outputId": "7779ec77-5cbb-4e1b-ebc5-5dc5ecf73e22"
      },
      "source": [
        "# Decision matrix definition\n",
        "m = [[1.2, 25, 8, 58000, 7, 5, 1126],\n",
        "     [1.65, 40, 7, 31000, 7, 8, 334],\n",
        "     [1.27, 20, 9, 45000, 9, 6, 227],\n",
        "     [1.77, 25, 7, 50000, 8, 8, 550]]\n",
        "print(f'Decision matrix: {m}')\n",
        "\n",
        "# Criterion status definition, so that: 0 corresponds to minimization criteria and 1 to maximization criteria\n",
        "st = [0, 0, 1, 1, 1, 1, 0]\n",
        "print(f'Criteria status: {st}')"
      ],
      "execution_count": null,
      "outputs": [
        {
          "output_type": "stream",
          "name": "stdout",
          "text": [
            "Decision matrix: [[1.2, 25, 8, 58000, 7, 5, 1126], [1.65, 40, 7, 31000, 7, 8, 334], [1.27, 20, 9, 45000, 9, 6, 227], [1.77, 25, 7, 50000, 8, 8, 550]]\n",
            "Criteria status: [0, 0, 1, 1, 1, 1, 0]\n"
          ]
        }
      ]
    },
    {
      "cell_type": "markdown",
      "metadata": {
        "id": "oKpTxlEyVWFT"
      },
      "source": [
        "**0-1 Normalization Method**\n",
        "\n",
        "$x_{i j} = \\frac{d_{ij} - min(d_{ij})}{max(d_{ij}) - min(d_{ij})}$, if the criterion is **maximization**. \n",
        "\n",
        "$x_{i j} = \\frac{max(d_{ij}) - d_{ij}}{max(d_{ij}) - min(d_{ij})}$, if the criterion is **minimization**. \n",
        "\n",
        "Note: This normalization corrects the meanings of the criteria\n"
      ]
    },
    {
      "cell_type": "code",
      "metadata": {
        "id": "fXWEYPIahyt1"
      },
      "source": [
        "def normalizar_01(matriz, status):\n",
        "  \"\"\"\n",
        " -> Function to calculate normalization of type 0-1 of a decision matrix.\n",
        "\n",
        "   :param matriz: decision matrix.\n",
        "   :param status: list containing the status of each criterion - if it is a maxization criterion, the list receives 1 and, if it is a minization criterion, the list receives 0.\n",
        "   :return: transposed normalized matrix.\n",
        "\n",
        "  \"\"\"\n",
        "  l = []                                   # Generate the transposed matrix\n",
        "  for j in range(len(matriz[0])):\n",
        "    linha = []\n",
        "    for i in range(len(matriz)):\n",
        "      linha.append(matriz[i][j])\n",
        "    l.append(linha)\n",
        "  \n",
        "  m_final = []                             # Start creating the normalized matrix\n",
        "  maior = menor = 0\n",
        "  for i in range(0, len(status)):          # This step evaluates whether the criterion is maximum or minimum\n",
        "    if status[i] == 0:\n",
        "      for j in range(0, len(l[i])):        # Here the maximums and minimums are selected\n",
        "        if j == 0:\n",
        "            maior = l[i][j]\n",
        "            menor = l[i][j]    \n",
        "        else:\n",
        "            if l[i][j] > maior:\n",
        "              maior = l[i][j]\n",
        "            if l[i][j] < menor:\n",
        "              menor = l[i][j]\n",
        "\n",
        "      for j in range(0, len(l[i])):        # The respective values are assigned to each item\n",
        "        if l[i][j] == maior:\n",
        "          l[i][j] = 0\n",
        "        elif l[i][j] == menor:\n",
        "          l[i][j] = 1\n",
        "        else:\n",
        "          l[i][j] = (maior - l[i][j])/(maior - menor)\n",
        "      m_final.append(l[i])\n",
        "\n",
        "    else:                                 # And then the same steps are repeated for the maximum criteria.\n",
        "      maior = menor = 0\n",
        "      for j in range(0, len(l[i])):\n",
        "        if j == 0:\n",
        "            maior = l[i][j]\n",
        "            menor = l[i][j]\n",
        "        else:\n",
        "            if l[i][j] > maior:\n",
        "              maior = l[i][j]\n",
        "            if l[i][j] < menor:\n",
        "              menor = l[i][j]\n",
        "\n",
        "      for j in range(0, len(l[i])):\n",
        "        if l[i][j] == maior:\n",
        "          l[i][j] = 1\n",
        "        elif l[i][j] == menor:\n",
        "          l[i][j] = 0\n",
        "        else:\n",
        "          l[i][j] = (l[i][j] - menor)/(maior - menor)\n",
        "\n",
        "      m_final.append(l[i])\n",
        "\n",
        "  return m_final"
      ],
      "execution_count": null,
      "outputs": []
    },
    {
      "cell_type": "code",
      "metadata": {
        "colab": {
          "base_uri": "https://localhost:8080/"
        },
        "id": "NUNgF-lwYT3j",
        "outputId": "8a8e1c83-d3a3-4bbc-93c8-b181158eb0e3"
      },
      "source": [
        "# Function application\n",
        "m_norm01 = np.array(normalizar_01(m, st))\n",
        "print(f'Transposed normalized matrix:\\n{m_norm01}')"
      ],
      "execution_count": 7,
      "outputs": [
        {
          "output_type": "stream",
          "name": "stdout",
          "text": [
            "Transposed normalized matrix:\n",
            "[[1.         0.21052632 0.87719298 0.        ]\n",
            " [0.75       0.         1.         0.75      ]\n",
            " [0.5        0.         1.         0.        ]\n",
            " [1.         0.         0.51851852 0.7037037 ]\n",
            " [0.         0.         1.         0.5       ]\n",
            " [0.         1.         0.33333333 1.        ]\n",
            " [0.         0.88097887 1.         0.6407119 ]]\n"
          ]
        }
      ]
    }
  ]
}